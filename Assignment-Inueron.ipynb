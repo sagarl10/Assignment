{
 "cells": [
  {
   "cell_type": "markdown",
   "id": "eb763b57",
   "metadata": {},
   "source": [
    "# 1.WAP to accept two numbers from the user and display their sum"
   ]
  },
  {
   "cell_type": "code",
   "execution_count": null,
   "id": "520a8e29",
   "metadata": {},
   "outputs": [],
   "source": [
    "a=int(input(\"Enter first number: \"))\n",
    "b=int(input(\"Enter second number: \"))\n",
    "sum=a+b\n",
    "print(\"Sum of a and b is: {c}\".format(c=sum))"
   ]
  },
  {
   "cell_type": "markdown",
   "id": "2340cb35",
   "metadata": {},
   "source": [
    "# 2. WAP to accept radius of a Circle from the user and calculate area and circumference"
   ]
  },
  {
   "cell_type": "code",
   "execution_count": null,
   "id": "6c23442f",
   "metadata": {
    "scrolled": true
   },
   "outputs": [],
   "source": [
    "import math\n",
    "rad=float(input(\"Enter the radius of circle:\"))\n",
    "circumference=2*math.pi*rad\n",
    "print(\"Circumference of circle is: {c}\".format(c=circumference))"
   ]
  },
  {
   "cell_type": "markdown",
   "id": "35c2b233",
   "metadata": {},
   "source": [
    "# 3.WAP to accept roll number , grade and percentage as input from the user and display it back"
   ]
  },
  {
   "cell_type": "code",
   "execution_count": null,
   "id": "acf687e1",
   "metadata": {},
   "outputs": [],
   "source": [
    "rgp=input(\"Enter the rollnumber, percentage and grade\")\n",
    "profile=rgp.split(\" \")\n",
    "print(\"Roll number:\",profile[0],\"Percentage:\",profile[1],\"Grade:\",profile[2])\n"
   ]
  },
  {
   "cell_type": "markdown",
   "id": "f9d7aced",
   "metadata": {},
   "source": [
    "# 4. Write a program that asks the user to enter his/her name and age. Print out a message , displaying the user’s name along with the year in which they will turn 100 years old.\n"
   ]
  },
  {
   "cell_type": "code",
   "execution_count": null,
   "id": "fcd67e73",
   "metadata": {},
   "outputs": [],
   "source": [
    "name=input(\"Enter your name\")\n",
    "age=int(input(\"Enter your age\"))\n",
    "yr_90=2022-age+100\n",
    "print(\"Name is {} will turn 100 years old in the year {}\".format(name,yr_90)) "
   ]
  },
  {
   "cell_type": "markdown",
   "id": "1fea92e8",
   "metadata": {},
   "source": [
    "\n",
    "# 5. Write a program that asks the user to input 2 integers and adds them . Accept both the numbers in a single line only"
   ]
  },
  {
   "cell_type": "code",
   "execution_count": null,
   "id": "d4ea571c",
   "metadata": {},
   "outputs": [],
   "source": [
    "nums=input(\"Enter two numbers:\")\n",
    "sum=int(nums.split()[0])+int(nums.split()[1])\n",
    "print(\"Sum of two numbers is\",sum)"
   ]
  },
  {
   "cell_type": "markdown",
   "id": "bc7458f2",
   "metadata": {},
   "source": [
    "# 6. Write a Python program which accepts the user's first and last name and print them in reverse order with a space between them"
   ]
  },
  {
   "cell_type": "code",
   "execution_count": null,
   "id": "23902b71",
   "metadata": {},
   "outputs": [],
   "source": [
    "first_name=input(\"Enter your first name:\")\n",
    "last_name=input(\"Enter your last_name:\")\n",
    "full_name=first_name+\" \"+last_name\n",
    "print(\"Name in reverse order is:\",full_name[::-1])"
   ]
  },
  {
   "cell_type": "markdown",
   "id": "45e86b89",
   "metadata": {},
   "source": [
    "# 7. WAP to accept an integer from the user and check whether it is an even or odd"
   ]
  },
  {
   "cell_type": "code",
   "execution_count": null,
   "id": "5aeffbb9",
   "metadata": {},
   "outputs": [],
   "source": [
    "num=int(input(\"Enter a number:\"))\n",
    "if num%2==0:\n",
    "    print(\"Number is even\")\n",
    "else:\n",
    "    print(\"Number is odd\")"
   ]
  },
  {
   "cell_type": "markdown",
   "id": "dac3370c",
   "metadata": {},
   "source": [
    "# 8. WAP to accept a character from the user and check whether it is a capital letter or small letter. Assume user will input only alphabets"
   ]
  },
  {
   "cell_type": "code",
   "execution_count": null,
   "id": "cf65a361",
   "metadata": {},
   "outputs": [],
   "source": [
    "start=ord('z')\n",
    "start\n"
   ]
  },
  {
   "cell_type": "code",
   "execution_count": null,
   "id": "c077402c",
   "metadata": {},
   "outputs": [],
   "source": [
    "char=input(\"Enter a character:\")\n",
    "if(ord(char)>=97 and ord(char)<=122):\n",
    "    print(\"Its small letter\")\n",
    "else:\n",
    "    print(\"Its capital letter\")"
   ]
  },
  {
   "cell_type": "markdown",
   "id": "cb9aab89",
   "metadata": {},
   "source": [
    "# 9. WAP to accept a character from the user and check whether it is a capital letter or small letter or a digit or some special symbol"
   ]
  },
  {
   "cell_type": "markdown",
   "id": "15ae9eb4",
   "metadata": {},
   "source": [
    "char=input(\"Enter a character:\")\n",
    "if(ord(char)>=97 and ord(char)<=122):\n",
    "    print(\"It is a small letter\")\n",
    "elif(char.isupper()):\n",
    "    print(\"Its a capital letter\")\n",
    "elif(char.isdigit()):\n",
    "    print(\"Its a digit\")\n",
    "else:\n",
    "    print(\"Its a special symbol\")"
   ]
  },
  {
   "cell_type": "markdown",
   "id": "2a70fd50",
   "metadata": {},
   "source": [
    "# 10. WAP to accept 3 integers from the user and without using any logical operator and cascading of relational operators , find out the greatest number amongst them"
   ]
  },
  {
   "cell_type": "code",
   "execution_count": 8,
   "id": "28a0c828",
   "metadata": {},
   "outputs": [
    {
     "name": "stdout",
     "output_type": "stream",
     "text": [
      "Enter first number:2\n",
      "Enter second number:3\n",
      "Enter third number:7\n",
      "7 is greatest number\n"
     ]
    }
   ],
   "source": [
    "a=int(input(\"Enter first number:\"))\n",
    "b=int(input(\"Enter second number:\"))\n",
    "c=int(input(\"Enter third number:\"))\n",
    "if(a>b and a>c):\n",
    "    print(a,\"is greatest number\")\n",
    "elif(b>a and b>c):\n",
    "    print(b,\"is greatest number\")\n",
    "else:\n",
    "    print(c,\"is greatest number\")"
   ]
  },
  {
   "cell_type": "markdown",
   "id": "e99c7154",
   "metadata": {},
   "source": [
    "# 11. WAP to accept a year from the user and check whether it is a leap year or not.\n"
   ]
  },
  {
   "cell_type": "code",
   "execution_count": 9,
   "id": "9930e8ba",
   "metadata": {},
   "outputs": [
    {
     "name": "stdout",
     "output_type": "stream",
     "text": [
      "Enter an year:2000\n",
      "Its a leap year\n"
     ]
    }
   ],
   "source": [
    "year=int(input(\"Enter an year:\"))\n",
    "if(year%4==0 and year%100!=0 or year%400==0):\n",
    "    print(\"Its a leap year\")\n",
    "else:\n",
    "    print(\"Its not a leap year\")"
   ]
  },
  {
   "cell_type": "markdown",
   "id": "aea18378",
   "metadata": {},
   "source": [
    "# 12. Write a program to accept a string from the user and display it vertically but don’t display the vowels in it."
   ]
  },
  {
   "cell_type": "code",
   "execution_count": 3,
   "id": "c6f6dcc3",
   "metadata": {},
   "outputs": [
    {
     "name": "stdout",
     "output_type": "stream",
     "text": [
      "Enter a string:sagarar\n",
      "s\n",
      "g\n",
      "r\n",
      "r\n"
     ]
    }
   ],
   "source": [
    "a=input(\"Enter a string:\")\n",
    "i=0\n",
    "while i<len(a):\n",
    "    if a[i] not in 'AEIOUaeiou':\n",
    "        print(a[i])\n",
    "    i=i+1    "
   ]
  },
  {
   "cell_type": "markdown",
   "id": "ec7c2c11",
   "metadata": {},
   "source": [
    "# 13. Write a program to continuously accept integers from the user until the user types 0 and as soon as 0 is entered display sum of all the nos entered before 0"
   ]
  },
  {
   "cell_type": "code",
   "execution_count": 6,
   "id": "d518ad5f",
   "metadata": {},
   "outputs": [
    {
     "name": "stdout",
     "output_type": "stream",
     "text": [
      "Enter a number:-2\n"
     ]
    }
   ],
   "source": [
    "sum=0\n",
    "while True:\n",
    "    a=int(input(\"Enter a number:\"))\n",
    "    if(a<0):\n",
    "        break\n",
    "    sum=sum+a\n",
    "    if(a==0):\n",
    "        print(\"Sum\",sum)\n",
    "        break\n",
    "        "
   ]
  },
  {
   "cell_type": "markdown",
   "id": "488e334c",
   "metadata": {},
   "source": [
    "# 14. Write a program to accept an integer from the user and display the sum of all the numbers from 1 to that number.\n"
   ]
  },
  {
   "cell_type": "code",
   "execution_count": 4,
   "id": "dca93cde",
   "metadata": {},
   "outputs": [
    {
     "name": "stdout",
     "output_type": "stream",
     "text": [
      "Enter any number:10\n",
      "Sum: 55\n"
     ]
    }
   ],
   "source": [
    "num=int(input(\"Enter any number:\"))\n",
    "i=1\n",
    "sum=0\n",
    "while i<=num:\n",
    "    sum=sum+i\n",
    "    i=i+1\n",
    "print(\"Sum:\",sum)    "
   ]
  },
  {
   "cell_type": "markdown",
   "id": "09b1241d",
   "metadata": {},
   "source": [
    "# 15. Write a program using a for loop to accept a string from the user and display it vertically but don’t display the vowels in it"
   ]
  },
  {
   "cell_type": "code",
   "execution_count": 5,
   "id": "be852953",
   "metadata": {},
   "outputs": [
    {
     "name": "stdout",
     "output_type": "stream",
     "text": [
      "Enter a string:sagat\n",
      "s\n",
      "g\n",
      "t\n"
     ]
    }
   ],
   "source": [
    "a=input(\"Enter a string:\")\n",
    "for char in a:\n",
    "    if(char not in \"AEIOUaeiou\"):\n",
    "        print(char)"
   ]
  },
  {
   "cell_type": "markdown",
   "id": "6dfcc22a",
   "metadata": {},
   "source": [
    "# 16. Write a program to accept an integer from the user and calculate its factorial"
   ]
  },
  {
   "cell_type": "code",
   "execution_count": 13,
   "id": "4080b425",
   "metadata": {},
   "outputs": [
    {
     "name": "stdout",
     "output_type": "stream",
     "text": [
      "Enter any number:0\n",
      "Factorial of a number is: 1\n"
     ]
    }
   ],
   "source": [
    "num=int(input(\"Enter any number:\"))\n",
    "fact=1\n",
    "if(num==0):\n",
    "    print(\"Factorial of a number is:\",fact)  \n",
    "else:\n",
    "    while num>0:\n",
    "        fact=fact*num\n",
    "        num=num-1\n",
    "    print(\"Factorial of a number is:\",fact)    "
   ]
  },
  {
   "cell_type": "markdown",
   "id": "2ed28e2c",
   "metadata": {},
   "source": [
    "# 17. Write a program to print the following pattern \n",
    "    ***\n",
    "    ***\n",
    "    ***\n",
    "    ***\n",
    "\n"
   ]
  },
  {
   "cell_type": "code",
   "execution_count": 15,
   "id": "efca7507",
   "metadata": {},
   "outputs": [
    {
     "name": "stdout",
     "output_type": "stream",
     "text": [
      "* * * \n",
      "* * * \n",
      "* * * \n",
      "* * * \n"
     ]
    }
   ],
   "source": [
    "for i in  range(4):\n",
    "    for j in range(3):\n",
    "        print(\"*\",end=\" \")\n",
    "    print()    "
   ]
  },
  {
   "cell_type": "markdown",
   "id": "7a073856",
   "metadata": {},
   "source": [
    "# 18. Write a program to print the following pattern \n",
    "         *\n",
    "         **\n",
    "         ***\n",
    "         ****\n"
   ]
  },
  {
   "cell_type": "code",
   "execution_count": 18,
   "id": "986b9c93",
   "metadata": {},
   "outputs": [
    {
     "name": "stdout",
     "output_type": "stream",
     "text": [
      "* \n",
      "* * \n",
      "* * * \n",
      "* * * * \n"
     ]
    }
   ],
   "source": [
    "for i in range(4):\n",
    "    for j in range(i+1):\n",
    "        print(\"*\",end=\" \")\n",
    "    print()    "
   ]
  },
  {
   "cell_type": "markdown",
   "id": "6b04be4d",
   "metadata": {},
   "source": [
    "# 19. Write a program to print the following pattern \n",
    "         ****\n",
    "         ***\n",
    "         **\n",
    "         *"
   ]
  },
  {
   "cell_type": "code",
   "execution_count": 19,
   "id": "1f35c4f8",
   "metadata": {},
   "outputs": [
    {
     "name": "stdout",
     "output_type": "stream",
     "text": [
      "* * * * \n",
      "* * * \n",
      "* * \n",
      "* \n"
     ]
    }
   ],
   "source": [
    "for i in range(4):\n",
    "    for j in range(4-i):\n",
    "        print(\"*\",end=\" \")\n",
    "    print(\"\")   "
   ]
  },
  {
   "cell_type": "markdown",
   "id": "cf1ccaae",
   "metadata": {},
   "source": [
    "# 20. Write a program to accept an integer from the user and display all the numbers from 1 to that number. Repeat the process until the user enters 0."
   ]
  },
  {
   "cell_type": "code",
   "execution_count": 20,
   "id": "26f39fd9",
   "metadata": {},
   "outputs": [
    {
     "name": "stdout",
     "output_type": "stream",
     "text": [
      "Enter a number:10\n",
      "1\n",
      "2\n",
      "3\n",
      "4\n",
      "5\n",
      "6\n",
      "7\n",
      "8\n",
      "9\n",
      "10\n",
      "Enter a number:5\n",
      "1\n",
      "2\n",
      "3\n",
      "4\n",
      "5\n",
      "Enter a number:0\n"
     ]
    }
   ],
   "source": [
    "\n",
    "while True:\n",
    "    num=int(input(\"Enter a number:\"))\n",
    "    if(num==0):\n",
    "        break\n",
    "    for i in range(1,num+1):\n",
    "        print(i)"
   ]
  },
  {
   "cell_type": "code",
   "execution_count": null,
   "id": "9d1c717b",
   "metadata": {},
   "outputs": [],
   "source": []
  }
 ],
 "metadata": {
  "kernelspec": {
   "display_name": "Python 3 (ipykernel)",
   "language": "python",
   "name": "python3"
  },
  "language_info": {
   "codemirror_mode": {
    "name": "ipython",
    "version": 3
   },
   "file_extension": ".py",
   "mimetype": "text/x-python",
   "name": "python",
   "nbconvert_exporter": "python",
   "pygments_lexer": "ipython3",
   "version": "3.9.12"
  }
 },
 "nbformat": 4,
 "nbformat_minor": 5
}
